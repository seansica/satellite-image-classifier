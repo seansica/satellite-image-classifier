{
 "cells": [
  {
   "cell_type": "code",
   "execution_count": 1,
   "metadata": {},
   "outputs": [],
   "source": [
    "import os\n",
    "import json\n",
    "from itertools import product\n",
    "from sklearn.metrics import accuracy_score, precision_score, recall_score, f1_score\n",
    "from sklearn.svm import SVC\n",
    "from sklearn.model_selection import train_test_split\n",
    "from sklearn.preprocessing import StandardScaler\n",
    "import joblib\n",
    "import numpy as np\n",
    "from sklearn.preprocessing import LabelEncoder\n",
    "from matplotlib import pyplot as plt\n",
    "import seaborn as sns\n"
   ]
  },
  {
   "cell_type": "code",
   "execution_count": 2,
   "metadata": {},
   "outputs": [],
   "source": [
    "import pandas as pd\n",
    "\n",
    "# Load training and testing data\n",
    "train_csv_path = \"train_labels_cleaned.csv\"\n",
    "test_csv_path = \"test_labels_cleaned.csv\"\n",
    "valid_csv_path = \"validate_labels_cleaned.csv\"\n",
    "\n",
    "train_data = pd.read_csv(train_csv_path)\n",
    "valid_data = pd.read_csv(valid_csv_path)\n",
    "test_data = pd.read_csv(test_csv_path)\n",
    "\n",
    "# Ensure both CSVs have 'filepath' and 'label' columns\n",
    "train_file_paths = train_data['image_path'].values\n",
    "train_labels = train_data['class'].values\n",
    "\n",
    "test_file_paths = test_data['image_path'].values\n",
    "test_labels = test_data['class'].values\n",
    "\n",
    "valid_file_paths = valid_data['image_path'].values\n",
    "valid_labels = valid_data['class'].values\n",
    "\n",
    "class_labels = np.unique(train_labels)\n",
    "label_encoder = LabelEncoder()"
   ]
  },
  {
   "cell_type": "code",
   "execution_count": 3,
   "metadata": {},
   "outputs": [],
   "source": [
    "# Define base folder to save results\n",
    "results_base_folder = \"./results_svm/\"\n",
    "os.makedirs(results_base_folder, exist_ok=True)"
   ]
  },
  {
   "cell_type": "code",
   "execution_count": 4,
   "metadata": {},
   "outputs": [],
   "source": [
    "# Hyperparameter search space\n",
    "kernels = ['linear', 'rbf']\n",
    "C_values = [0.1, 1, 10]\n",
    "# gammas = [0.01, 0.1, 1]\n",
    "hyperparameter_combinations = list(product(kernels, C_values))"
   ]
  },
  {
   "cell_type": "code",
   "execution_count": 8,
   "metadata": {},
   "outputs": [],
   "source": [
    "X_train_full = np.load(\"./resnet100_train_features.npy\")\n",
    "y_train_full = label_encoder.fit_transform(train_labels)\n",
    "\n",
    "X_val = np.load(\"./resnet100_val_features.npy\")\n",
    "y_val = label_encoder.fit_transform(valid_labels)\n",
    "\n",
    "X_test = np.load(\"./resnet100_test_features.npy\")\n",
    "y_test = label_encoder.fit_transform(test_labels)\n",
    "# # Convert numpy arrays to PyTorch tensors\n",
    "# X_train = torch.tensor(X_train, dtype=torch.float32)\n",
    "# y_train = torch.tensor(y_train, dtype=torch.long)\n",
    "\n",
    "# Use only 15% of the training data\n",
    "X_train, _, y_train, _ = train_test_split(X_train_full, y_train_full, test_size=0.95, random_state=42)"
   ]
  },
  {
   "cell_type": "code",
   "execution_count": 9,
   "metadata": {},
   "outputs": [],
   "source": [
    "# # Standardize features\n",
    "scaler = StandardScaler()\n",
    "X_train = scaler.fit_transform(X_train)\n",
    "X_val = scaler.transform(X_val)\n",
    "X_test = scaler.transform(X_test)\n"
   ]
  },
  {
   "cell_type": "code",
   "execution_count": 10,
   "metadata": {},
   "outputs": [
    {
     "data": {
      "text/plain": [
       "(4500, 2048)"
      ]
     },
     "execution_count": 10,
     "metadata": {},
     "output_type": "execute_result"
    }
   ],
   "source": [
    "X_train.shape"
   ]
  },
  {
   "cell_type": "code",
   "execution_count": 12,
   "metadata": {},
   "outputs": [
    {
     "name": "stdout",
     "output_type": "stream",
     "text": [
      "Training with kernel=linear, C=0.1\n",
      "Best model saved with Acc score = 0.5896\n",
      "Training with kernel=linear, C=1\n",
      "Training with kernel=linear, C=10\n",
      "Training with kernel=rbf, C=0.1\n"
     ]
    },
    {
     "name": "stderr",
     "output_type": "stream",
     "text": [
      "/opt/conda/envs/res/lib/python3.10/site-packages/sklearn/metrics/_classification.py:1565: UndefinedMetricWarning: Precision is ill-defined and being set to 0.0 in labels with no predicted samples. Use `zero_division` parameter to control this behavior.\n",
      "  _warn_prf(average, modifier, f\"{metric.capitalize()} is\", len(result))\n"
     ]
    },
    {
     "name": "stdout",
     "output_type": "stream",
     "text": [
      "Training with kernel=rbf, C=1\n",
      "Training with kernel=rbf, C=10\n",
      "Best model saved with Acc score = 0.6304\n",
      "Final results saved to ./results_svm/final_metrics.json\n"
     ]
    }
   ],
   "source": [
    "# Dictionary to store results\n",
    "results_dict = {}\n",
    "\n",
    "# Hyperparameter search\n",
    "best_val_acc = -np.inf\n",
    "best_model_path = None\n",
    "best_hyperparams = None\n",
    "\n",
    "for kernel, C in hyperparameter_combinations:\n",
    "    print(f\"Training with kernel={kernel}, C={C}\")\n",
    "    \n",
    "    # Train SVM\n",
    "    model = SVC(kernel=kernel, C=C, probability=True, random_state=42)\n",
    "    model.fit(X_train, y_train)\n",
    "\n",
    "    # Evaluate on validation set\n",
    "    y_val_pred = model.predict(X_val)\n",
    "    val_accuracy = accuracy_score(y_val, y_val_pred)\n",
    "    val_precision = precision_score(y_val, y_val_pred, average='weighted')\n",
    "    val_recall = recall_score(y_val, y_val_pred, average='weighted')\n",
    "    val_f1 = f1_score(y_val, y_val_pred, average='weighted')\n",
    "\n",
    "    # Save the best model and hyperparameters\n",
    "    if val_accuracy > best_val_acc:\n",
    "        best_val_acc = val_accuracy\n",
    "        best_model_path = os.path.join(results_base_folder, f\"best_model_{kernel}_C{C}.joblib\")\n",
    "        joblib.dump(model, best_model_path)\n",
    "        best_hyperparams = {\"kernel\": kernel, \"C\": C}\n",
    "        print(f\"Best model saved with Acc score = {val_accuracy:.4f}\")\n",
    "\n",
    "    # Save results for this combination\n",
    "    results = {\n",
    "        \"kernel\": kernel,\n",
    "        \"C\": C,\n",
    "        \"val_metrics\": {\n",
    "            \"accuracy\": val_accuracy,\n",
    "            \"precision\": val_precision,\n",
    "            \"recall\": val_recall,\n",
    "            \"f1\": val_f1,\n",
    "        }\n",
    "    }\n",
    "    results_dict[f\"{kernel}_C{C}\"] = results\n",
    "\n",
    "# Evaluate best model on train, validation, and test sets\n",
    "best_model = joblib.load(best_model_path)\n",
    "\n",
    "def evaluate(model, X, y):\n",
    "    y_pred = model.predict(X)\n",
    "    accuracy = accuracy_score(y, y_pred)\n",
    "    precision = precision_score(y, y_pred, average='weighted')\n",
    "    recall = recall_score(y, y_pred, average='weighted')\n",
    "    f1 = f1_score(y, y_pred, average='weighted')\n",
    "    return accuracy, precision, recall, f1\n",
    "\n",
    "train_metrics = evaluate(best_model, X_train, y_train)\n",
    "val_metrics = evaluate(best_model, X_val, y_val)\n",
    "test_metrics = evaluate(best_model, X_test, y_test)\n",
    "\n",
    "final_results = {\n",
    "    \"train_metrics\": {\n",
    "        \"accuracy\": train_metrics[0],\n",
    "        \"precision\": train_metrics[1],\n",
    "        \"recall\": train_metrics[2],\n",
    "        \"f1\": train_metrics[3],\n",
    "    },\n",
    "    \"val_metrics\": {\n",
    "        \"accuracy\": val_metrics[0],\n",
    "        \"precision\": val_metrics[1],\n",
    "        \"recall\": val_metrics[2],\n",
    "        \"f1\": val_metrics[3],\n",
    "    },\n",
    "    \"test_metrics\": {\n",
    "        \"accuracy\": test_metrics[0],\n",
    "        \"precision\": test_metrics[1],\n",
    "        \"recall\": test_metrics[2],\n",
    "        \"f1\": test_metrics[3],\n",
    "    },\n",
    "    \"best_hyperparameters\": best_hyperparams\n",
    "}\n",
    "\n",
    "# Save final metrics and best hyperparameters to a JSON file\n",
    "metrics_path = os.path.join(results_base_folder, \"final_metrics.json\")\n",
    "with open(metrics_path, \"w\") as f:\n",
    "    json.dump(final_results, f, indent=4)\n",
    "\n",
    "print(f\"Final results saved to {metrics_path}\")\n"
   ]
  },
  {
   "cell_type": "code",
   "execution_count": null,
   "metadata": {},
   "outputs": [],
   "source": []
  }
 ],
 "metadata": {
  "kernelspec": {
   "display_name": "res",
   "language": "python",
   "name": "python3"
  },
  "language_info": {
   "codemirror_mode": {
    "name": "ipython",
    "version": 3
   },
   "file_extension": ".py",
   "mimetype": "text/x-python",
   "name": "python",
   "nbconvert_exporter": "python",
   "pygments_lexer": "ipython3",
   "version": "3.10.16"
  }
 },
 "nbformat": 4,
 "nbformat_minor": 2
}
